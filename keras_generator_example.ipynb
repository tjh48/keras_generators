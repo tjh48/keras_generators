{
 "cells": [
  {
   "cell_type": "markdown",
   "metadata": {
    "colab_type": "text",
    "id": "SqDqHh-vIeBp"
   },
   "source": [
    "To create a generator, we'll want numpy and keras. Begin by importing these."
   ]
  },
  {
   "cell_type": "code",
   "execution_count": null,
   "metadata": {},
   "outputs": [],
   "source": [
    "import numpy as np\n",
    "import keras"
   ]
  },
  {
   "cell_type": "markdown",
   "metadata": {
    "colab_type": "text",
    "id": "Oom9vyKtDpWP"
   },
   "source": [
    "Now we can create a class inheriting from the 'keras.utils.Sequence' class. \n",
    "\n",
    "There are a few required methods for this class:\n",
    "\n",
    "\\__init\\__ - your standard initialisation method\n",
    "\n",
    "\\__len\\__ - returning the number of batches per epoch\n",
    "\n",
    "\\__getitem\\__ - the core of the class, which returns (from a given index) a batch of data for training, testing and evaluation.\n",
    "\n",
    "Let's look at an example generator."
   ]
  },
  {
   "cell_type": "code",
   "execution_count": 0,
   "metadata": {
    "colab": {
     "autoexec": {
      "startup": false,
      "wait_interval": 0
     }
    },
    "colab_type": "code",
    "id": "YpR88KE9DwAw"
   },
   "outputs": [],
   "source": [
    "class MyGenerator(keras.utils.Sequence):\n",
    "    'Generates data for Keras'\n",
    "    def __init__(self, ids, train_dir):\n",
    "        'Initialization'\n",
    "        self.ids = ids\n",
    "        self.train_dir = train_dir\n",
    "    def __len__(self):\n",
    "        'Denotes the number of batches per epoch'\n",
    "        return len(self.ids)\n",
    "    def __getitem__(self, index):\n",
    "        batch_id = self.ids[index]\n",
    "        # load data\n",
    "        X = numpy.load(self.train_dir + '/batch_data/lbatchX_' + str(batch_id) + '.npy')\n",
    "        Y = numpy.load(self.train_dir + '/batch_data/lbatchY_' + str(batch_id) + '.npy')\n",
    "        return X, Y"
   ]
  },
  {
   "cell_type": "markdown",
   "metadata": {
    "colab_type": "text",
    "id": "jaV4wYAHHaIW"
   },
   "source": [
    "This is probably as simple as a generator can get. \n",
    "\n",
    "I precreate the batches as individual files 'lbatchX_ZZ.npy' and 'lbatchY_ZZ.npy' (where ZZ defines the index of each batch); 'lbatchX_ZZ.npy' contains the inputs and 'lbatchY_ZZ.npy' contains the outputs. All the generator has to do is load in the right files and spit out the numpy arrays. \n",
    "\n",
    "When Keras fits/evaluates/predicts using a generator of this class, it will iterate over the values from zero to the length of the generator (as calculated in the  \\__len\\__ method and supply this as an input to the \\__getitem\\__ method. If training or evaluating, the generator must return both input and output variables for the model; if predicting, the generator can return only input (but returning both is permissable)\n",
    "\n",
    "I give the directory containing the training data as a variable in class initialization as an example of an optional input to the generator."
   ]
  },
  {
   "cell_type": "markdown",
   "metadata": {
    "colab_type": "text",
    "id": "GP_KomtiK9iC"
   },
   "source": [
    "To implement this generator, let's pretend that we've created one hundred batches and that the first ninety are a training set and the last ten are a validation set."
   ]
  },
  {
   "cell_type": "code",
   "execution_count": 0,
   "metadata": {
    "colab": {
     "autoexec": {
      "startup": false,
      "wait_interval": 0
     }
    },
    "colab_type": "code",
    "id": "aiVZZBiYK5VU"
   },
   "outputs": [],
   "source": [
    "trainGen = MyGenerator(range(90), \"trainingDir\")\n",
    "valGen = MyGenerator(range(90, 100), \"trainingDir\")"
   ]
  },
  {
   "cell_type": "markdown",
   "metadata": {
    "colab_type": "text",
    "id": "cZZHT24lYtBe"
   },
   "source": [
    "Now you can just construct your model, compile it, and fit using the generators created above.  Shuffling the data will shuffle the indices supplied to \\__getitem\\__ at the start of each epoch. If you supply 'steps_per_epoch', only this number of steps will be carried out over each epoch, otherwise, the whole set of indices will be used.\n",
    "\n",
    "Similarly, you can use 'model.predict_generator' and 'model.evaluate_generator' to replace 'model.predict' and 'model.evaluate'."
   ]
  },
  {
   "cell_type": "code",
   "execution_count": null,
   "metadata": {},
   "outputs": [],
   "source": [
    "model.fit_generator(generator = trainGen, validation_data = valGen, epochs=100, shuffle = True)\n",
    "model.predict_generator(trainGen)\n",
    "model.evaluate_generator(valGen)"
   ]
  }
 ],
 "metadata": {
  "colab": {
   "collapsed_sections": [],
   "default_view": {},
   "name": "keras_generator_mnist_example.ipynb",
   "provenance": [],
   "version": "0.3.2",
   "views": {}
  },
  "kernelspec": {
   "display_name": "Python 3",
   "language": "python",
   "name": "python3"
  },
  "language_info": {
   "codemirror_mode": {
    "name": "ipython",
    "version": 3
   },
   "file_extension": ".py",
   "mimetype": "text/x-python",
   "name": "python",
   "nbconvert_exporter": "python",
   "pygments_lexer": "ipython3",
   "version": "3.6.4"
  }
 },
 "nbformat": 4,
 "nbformat_minor": 1
}
